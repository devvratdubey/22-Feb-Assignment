{
 "cells": [
  {
   "cell_type": "code",
   "execution_count": 1,
   "id": "ebb31823-6f2a-4a8e-bc7f-33f827ed78b2",
   "metadata": {},
   "outputs": [],
   "source": [
    "import pandas as pd"
   ]
  },
  {
   "cell_type": "markdown",
   "id": "3624ebe8-82d8-40cb-ac0f-dcb4c8891b7a",
   "metadata": {},
   "source": [
    "#Q1ANSWER"
   ]
  },
  {
   "cell_type": "code",
   "execution_count": 57,
   "id": "3922fd3c-b816-4569-aec6-d3d595e2d455",
   "metadata": {},
   "outputs": [],
   "source": [
    "df=pd.Series([4,8,15,16,23,42])"
   ]
  },
  {
   "cell_type": "code",
   "execution_count": 58,
   "id": "39c44404-393d-4cff-8690-9728e458e1f3",
   "metadata": {},
   "outputs": [
    {
     "data": {
      "text/plain": [
       "0     4\n",
       "1     8\n",
       "2    15\n",
       "3    16\n",
       "4    23\n",
       "5    42\n",
       "dtype: int64"
      ]
     },
     "execution_count": 58,
     "metadata": {},
     "output_type": "execute_result"
    }
   ],
   "source": [
    "df"
   ]
  },
  {
   "cell_type": "code",
   "execution_count": 59,
   "id": "19fb52cc-e3c3-4c64-88f9-f12919ed98b4",
   "metadata": {},
   "outputs": [
    {
     "data": {
      "text/plain": [
       "pandas.core.series.Series"
      ]
     },
     "execution_count": 59,
     "metadata": {},
     "output_type": "execute_result"
    }
   ],
   "source": [
    "type(df)"
   ]
  },
  {
   "cell_type": "code",
   "execution_count": 60,
   "id": "0089e0b5-dd07-495b-b7a1-8bc6136dd0df",
   "metadata": {},
   "outputs": [
    {
     "name": "stdout",
     "output_type": "stream",
     "text": [
      "4\n",
      "8\n",
      "15\n",
      "16\n",
      "23\n",
      "42\n"
     ]
    }
   ],
   "source": [
    "for i in df:\n",
    "    print(i)"
   ]
  },
  {
   "cell_type": "markdown",
   "id": "565f2265-f541-47a5-b570-56bbad29afcc",
   "metadata": {},
   "source": [
    "#Q2 ANSWER"
   ]
  },
  {
   "cell_type": "code",
   "execution_count": 61,
   "id": "9db7673f-ee42-4975-94e4-f4d871bfb4d1",
   "metadata": {},
   "outputs": [],
   "source": [
    "a=list(range(10))\n"
   ]
  },
  {
   "cell_type": "code",
   "execution_count": 62,
   "id": "2ec95027-7172-40ce-bca6-3908af853dc1",
   "metadata": {},
   "outputs": [],
   "source": [
    "df=pd.Series(a)"
   ]
  },
  {
   "cell_type": "code",
   "execution_count": 63,
   "id": "49bd98e9-6290-406c-8496-8d075da29712",
   "metadata": {},
   "outputs": [
    {
     "name": "stdout",
     "output_type": "stream",
     "text": [
      "0\n",
      "1\n",
      "2\n",
      "3\n",
      "4\n",
      "5\n",
      "6\n",
      "7\n",
      "8\n",
      "9\n"
     ]
    }
   ],
   "source": [
    "for i in df:\n",
    "    print(i)"
   ]
  },
  {
   "cell_type": "markdown",
   "id": "09e1139d-6bd1-4d13-b685-a3c49843e031",
   "metadata": {},
   "source": [
    "   #Q3 ANSWER"
   ]
  },
  {
   "cell_type": "code",
   "execution_count": 64,
   "id": "d676cb82-0d0b-4059-8bec-4a27a22bd98c",
   "metadata": {},
   "outputs": [],
   "source": [
    "d={\n",
    "    \"Name\":[\"Alice\",\"Bob\",\"Claire\"],\n",
    "    \"Age\":[25,30,27],\n",
    "    \"Gender\":[\"Female\",\"Male\",\"Female\"]\n",
    "}"
   ]
  },
  {
   "cell_type": "code",
   "execution_count": 65,
   "id": "ac43ab12-74e8-4c35-80d1-6170ee9d7a1a",
   "metadata": {},
   "outputs": [],
   "source": [
    "df=pd.DataFrame(d)"
   ]
  },
  {
   "cell_type": "code",
   "execution_count": 66,
   "id": "e03beed8-ef6d-425b-badd-43200c8c94b9",
   "metadata": {},
   "outputs": [
    {
     "name": "stdout",
     "output_type": "stream",
     "text": [
      "     Name  Age  Gender\n",
      "0   Alice   25  Female\n",
      "1     Bob   30    Male\n",
      "2  Claire   27  Female\n"
     ]
    }
   ],
   "source": [
    "print(df)"
   ]
  },
  {
   "cell_type": "markdown",
   "id": "a278d644-4111-463f-9a76-af94320647cf",
   "metadata": {},
   "source": [
    "#Q4 ANSWER\n"
   ]
  },
  {
   "cell_type": "markdown",
   "id": "fec16145-40d4-41df-be65-089b07187aad",
   "metadata": {},
   "source": [
    "Pandas provide two data structures that shape data into a readable form:\n",
    "\n",
    "Series\n",
    "\n",
    "DataFrame\n",
    "\n",
    "#Series\n",
    "A pandas series is a one-dimensional data structure that comprises of key-value pair, where keys/labels are the indices and values are the values stored on that index. It is similar to a python dictionary, except it provides more freedom to manipulate and edit the data.\n",
    "\n",
    "We use pandas.Series()to initialize a series object using Pandas.\n"
   ]
  },
  {
   "cell_type": "code",
   "execution_count": 17,
   "id": "c2e3ea04-d9de-4d8a-8dc9-fd6a00f672e8",
   "metadata": {},
   "outputs": [],
   "source": [
    "a=[1,2,3,4,5]\n",
    "s=pd.Series(a)"
   ]
  },
  {
   "cell_type": "markdown",
   "id": "57c2d5a2-2cc6-42c5-92af-e3d1a139946d",
   "metadata": {},
   "source": [
    "here we have not specified our own index so it will set the default indices\n",
    "\n"
   ]
  },
  {
   "cell_type": "code",
   "execution_count": 18,
   "id": "80d788fe-763d-4b3f-aae9-75c5cc62d155",
   "metadata": {},
   "outputs": [
    {
     "data": {
      "text/plain": [
       "0    1\n",
       "1    2\n",
       "2    3\n",
       "3    4\n",
       "4    5\n",
       "dtype: int64"
      ]
     },
     "execution_count": 18,
     "metadata": {},
     "output_type": "execute_result"
    }
   ],
   "source": [
    "s"
   ]
  },
  {
   "cell_type": "markdown",
   "id": "6a2989d4-c8eb-49c3-90d8-bb5e422ad956",
   "metadata": {},
   "source": [
    "keys are the indices 0,,1,2,3,4\n",
    "\n",
    "values are the values in the list 1,2,3,4,5"
   ]
  },
  {
   "cell_type": "code",
   "execution_count": 19,
   "id": "6e982382-0b9d-4925-bfa3-5f634181178b",
   "metadata": {},
   "outputs": [],
   "source": [
    "s=pd.Series(a,index=[\"a\",\"b\",\"c\",\"d\",\"e\"])"
   ]
  },
  {
   "cell_type": "markdown",
   "id": "a84a76ab-fd8c-439b-b170-e954b0e21bc7",
   "metadata": {},
   "source": [
    "here we have settinf our own indices"
   ]
  },
  {
   "cell_type": "code",
   "execution_count": 20,
   "id": "2235cba4-aa20-429a-b41d-6f91e2c7f35b",
   "metadata": {},
   "outputs": [
    {
     "data": {
      "text/plain": [
       "a    1\n",
       "b    2\n",
       "c    3\n",
       "d    4\n",
       "e    5\n",
       "dtype: int64"
      ]
     },
     "execution_count": 20,
     "metadata": {},
     "output_type": "execute_result"
    }
   ],
   "source": [
    "s"
   ]
  },
  {
   "cell_type": "markdown",
   "id": "ccbb33fe-6dd9-4fae-9f8e-d71281ed5734",
   "metadata": {},
   "source": [
    "keys are the indices specified by us a,b,c,d,e\n",
    "\n",
    "values are the values in the list"
   ]
  },
  {
   "cell_type": "code",
   "execution_count": 21,
   "id": "e7561ace-180a-4f95-aeb3-f44bfa9c300d",
   "metadata": {},
   "outputs": [
    {
     "data": {
      "text/plain": [
       "pandas.core.series.Series"
      ]
     },
     "execution_count": 21,
     "metadata": {},
     "output_type": "execute_result"
    }
   ],
   "source": [
    "type(s)"
   ]
  },
  {
   "cell_type": "code",
   "execution_count": 22,
   "id": "5e9e4865-30ba-4acd-82bd-2e638e95fcae",
   "metadata": {},
   "outputs": [],
   "source": [
    "fruits=[\"apple\",\"guava\",\"banana\",\"pineapple\"]\n",
    "allfruits=pd.Series(fruits,index=[4,3,2,1],name=\"fruitswallah\")"
   ]
  },
  {
   "cell_type": "markdown",
   "id": "ce8b03ff-317c-44e4-a69d-a7e8aed85205",
   "metadata": {},
   "source": [
    "here we have specified the name of the series fruitswallah"
   ]
  },
  {
   "cell_type": "code",
   "execution_count": 24,
   "id": "563f527d-05b0-4769-8199-17c6471fbdcc",
   "metadata": {},
   "outputs": [
    {
     "data": {
      "text/plain": [
       "4        apple\n",
       "3        guava\n",
       "2       banana\n",
       "1    pineapple\n",
       "Name: fruitswallah, dtype: object"
      ]
     },
     "execution_count": 24,
     "metadata": {},
     "output_type": "execute_result"
    }
   ],
   "source": [
    "allfruits"
   ]
  },
  {
   "cell_type": "code",
   "execution_count": 25,
   "id": "ead9dae6-e84f-47db-898a-4a99082ba633",
   "metadata": {},
   "outputs": [],
   "source": [
    "d={\"a\":25,\"bb\":30,\"c\":50,\"za\":21,2:100}"
   ]
  },
  {
   "cell_type": "markdown",
   "id": "1d71f790-1d28-4270-b199-029140da52f3",
   "metadata": {},
   "source": [
    "series can ber initalise inthe form of dictionary also\n",
    "\n",
    "where the index are the keyalues of dictionary and values are values of the keys "
   ]
  },
  {
   "cell_type": "code",
   "execution_count": 26,
   "id": "6474fb7e-c1e0-40a3-adf7-122e1b610780",
   "metadata": {},
   "outputs": [],
   "source": [
    "data=pd.Series(d)"
   ]
  },
  {
   "cell_type": "code",
   "execution_count": 27,
   "id": "656dc9d2-23a8-44ee-98f0-43e1e3bf9cef",
   "metadata": {},
   "outputs": [
    {
     "data": {
      "text/plain": [
       "a      25\n",
       "bb     30\n",
       "c      50\n",
       "za     21\n",
       "2     100\n",
       "dtype: int64"
      ]
     },
     "execution_count": 27,
     "metadata": {},
     "output_type": "execute_result"
    }
   ],
   "source": [
    "data"
   ]
  },
  {
   "cell_type": "code",
   "execution_count": 28,
   "id": "7d4197cc-feb0-4dfe-bf08-87c2e2cc0cc7",
   "metadata": {},
   "outputs": [
    {
     "data": {
      "text/plain": [
       "30"
      ]
     },
     "execution_count": 28,
     "metadata": {},
     "output_type": "execute_result"
    }
   ],
   "source": [
    "data.iloc[1]"
   ]
  },
  {
   "cell_type": "markdown",
   "id": "1c4e4406-89ec-435a-b19d-d793ee2801ff",
   "metadata": {},
   "source": [
    "data can be with drawn by entering default indices"
   ]
  },
  {
   "cell_type": "code",
   "execution_count": 29,
   "id": "d443ddbd-9d92-4f16-88d6-71920e5f17e1",
   "metadata": {},
   "outputs": [
    {
     "data": {
      "text/plain": [
       "25"
      ]
     },
     "execution_count": 29,
     "metadata": {},
     "output_type": "execute_result"
    }
   ],
   "source": [
    "data.loc[\"a\"]"
   ]
  },
  {
   "cell_type": "markdown",
   "id": "cc172af5-a844-4b87-a945-6acdf846bb00",
   "metadata": {},
   "source": [
    "data is withdrawn by entering the specified indices"
   ]
  },
  {
   "cell_type": "code",
   "execution_count": 31,
   "id": "022dfde3-084b-4595-91e4-f3cbf897d3ca",
   "metadata": {},
   "outputs": [
    {
     "data": {
      "text/plain": [
       "25"
      ]
     },
     "execution_count": 31,
     "metadata": {},
     "output_type": "execute_result"
    }
   ],
   "source": [
    "data[\"a\"]"
   ]
  },
  {
   "cell_type": "code",
   "execution_count": 32,
   "id": "c182b2dd-4981-4738-bbbc-b80693025d52",
   "metadata": {},
   "outputs": [
    {
     "data": {
      "text/plain": [
       "4        apple\n",
       "3        guava\n",
       "2       banana\n",
       "1    pineapple\n",
       "Name: fruitswallah, dtype: object"
      ]
     },
     "execution_count": 32,
     "metadata": {},
     "output_type": "execute_result"
    }
   ],
   "source": [
    "allfruits"
   ]
  },
  {
   "cell_type": "code",
   "execution_count": 33,
   "id": "978efd03-b118-49fe-a4a6-3b25a70e173a",
   "metadata": {},
   "outputs": [
    {
     "data": {
      "text/plain": [
       "'apple'"
      ]
     },
     "execution_count": 33,
     "metadata": {},
     "output_type": "execute_result"
    }
   ],
   "source": [
    "allfruits.loc[4]#specified index"
   ]
  },
  {
   "cell_type": "code",
   "execution_count": 34,
   "id": "80aae6ca-af47-4239-baa3-b64bfd044d58",
   "metadata": {},
   "outputs": [
    {
     "data": {
      "text/plain": [
       "'apple'"
      ]
     },
     "execution_count": 34,
     "metadata": {},
     "output_type": "execute_result"
    }
   ],
   "source": [
    "allfruits.iloc[0]#default index"
   ]
  },
  {
   "cell_type": "code",
   "execution_count": 35,
   "id": "bc3f1f61-e754-44bb-a237-2abeedac013f",
   "metadata": {},
   "outputs": [
    {
     "data": {
      "text/plain": [
       "'pineapple'"
      ]
     },
     "execution_count": 35,
     "metadata": {},
     "output_type": "execute_result"
    }
   ],
   "source": [
    "allfruits[1]#specified index"
   ]
  },
  {
   "cell_type": "markdown",
   "id": "c1d007bd-12af-477f-957f-6dc02486b354",
   "metadata": {},
   "source": [
    "# Dataframe\n",
    "\n",
    "A pandas DataFrame is a two-dimensional data structure that can be thought of as a spreadsheet. It can also be thought of as a collection of two or more series with common indices.\n"
   ]
  },
  {
   "cell_type": "code",
   "execution_count": 36,
   "id": "45a73719-c131-4d3c-9649-8f5ec8c1e5df",
   "metadata": {},
   "outputs": [],
   "source": [
    "allfruits={\n",
    "    \"jackfruits\":[\"apple\",\"guava\",\"banana\"],\n",
    "    \"johnfruits\":[\"kiwis\",\"oranges\",\"strawberries\"]\n",
    "}"
   ]
  },
  {
   "cell_type": "code",
   "execution_count": 37,
   "id": "124ec6f5-0202-4dab-8436-87a99c1da070",
   "metadata": {},
   "outputs": [],
   "source": [
    "df=pd.DataFrame(allfruits)"
   ]
  },
  {
   "cell_type": "code",
   "execution_count": 38,
   "id": "216cb549-16bd-4f95-bae7-08a5ca7b6d76",
   "metadata": {},
   "outputs": [
    {
     "data": {
      "text/html": [
       "<div>\n",
       "<style scoped>\n",
       "    .dataframe tbody tr th:only-of-type {\n",
       "        vertical-align: middle;\n",
       "    }\n",
       "\n",
       "    .dataframe tbody tr th {\n",
       "        vertical-align: top;\n",
       "    }\n",
       "\n",
       "    .dataframe thead th {\n",
       "        text-align: right;\n",
       "    }\n",
       "</style>\n",
       "<table border=\"1\" class=\"dataframe\">\n",
       "  <thead>\n",
       "    <tr style=\"text-align: right;\">\n",
       "      <th></th>\n",
       "      <th>jackfruits</th>\n",
       "      <th>johnfruits</th>\n",
       "    </tr>\n",
       "  </thead>\n",
       "  <tbody>\n",
       "    <tr>\n",
       "      <th>0</th>\n",
       "      <td>apple</td>\n",
       "      <td>kiwis</td>\n",
       "    </tr>\n",
       "    <tr>\n",
       "      <th>1</th>\n",
       "      <td>guava</td>\n",
       "      <td>oranges</td>\n",
       "    </tr>\n",
       "    <tr>\n",
       "      <th>2</th>\n",
       "      <td>banana</td>\n",
       "      <td>strawberries</td>\n",
       "    </tr>\n",
       "  </tbody>\n",
       "</table>\n",
       "</div>"
      ],
      "text/plain": [
       "  jackfruits    johnfruits\n",
       "0      apple         kiwis\n",
       "1      guava       oranges\n",
       "2     banana  strawberries"
      ]
     },
     "execution_count": 38,
     "metadata": {},
     "output_type": "execute_result"
    }
   ],
   "source": [
    "df"
   ]
  },
  {
   "cell_type": "code",
   "execution_count": 39,
   "id": "9546e18a-4e4f-420a-9db3-0342faf9c680",
   "metadata": {},
   "outputs": [],
   "source": [
    "df=pd.DataFrame(allfruits,index=[\"a\",\"b\",\"c\"])"
   ]
  },
  {
   "cell_type": "code",
   "execution_count": 40,
   "id": "0bf94eee-096b-44dd-acad-9fc252802c59",
   "metadata": {},
   "outputs": [
    {
     "data": {
      "text/html": [
       "<div>\n",
       "<style scoped>\n",
       "    .dataframe tbody tr th:only-of-type {\n",
       "        vertical-align: middle;\n",
       "    }\n",
       "\n",
       "    .dataframe tbody tr th {\n",
       "        vertical-align: top;\n",
       "    }\n",
       "\n",
       "    .dataframe thead th {\n",
       "        text-align: right;\n",
       "    }\n",
       "</style>\n",
       "<table border=\"1\" class=\"dataframe\">\n",
       "  <thead>\n",
       "    <tr style=\"text-align: right;\">\n",
       "      <th></th>\n",
       "      <th>jackfruits</th>\n",
       "      <th>johnfruits</th>\n",
       "    </tr>\n",
       "  </thead>\n",
       "  <tbody>\n",
       "    <tr>\n",
       "      <th>a</th>\n",
       "      <td>apple</td>\n",
       "      <td>kiwis</td>\n",
       "    </tr>\n",
       "    <tr>\n",
       "      <th>b</th>\n",
       "      <td>guava</td>\n",
       "      <td>oranges</td>\n",
       "    </tr>\n",
       "    <tr>\n",
       "      <th>c</th>\n",
       "      <td>banana</td>\n",
       "      <td>strawberries</td>\n",
       "    </tr>\n",
       "  </tbody>\n",
       "</table>\n",
       "</div>"
      ],
      "text/plain": [
       "  jackfruits    johnfruits\n",
       "a      apple         kiwis\n",
       "b      guava       oranges\n",
       "c     banana  strawberries"
      ]
     },
     "execution_count": 40,
     "metadata": {},
     "output_type": "execute_result"
    }
   ],
   "source": [
    "df"
   ]
  },
  {
   "cell_type": "code",
   "execution_count": 41,
   "id": "d403f13d-8923-48e7-8387-db79d4afa286",
   "metadata": {},
   "outputs": [
    {
     "data": {
      "text/plain": [
       "a     apple\n",
       "b     guava\n",
       "c    banana\n",
       "Name: jackfruits, dtype: object"
      ]
     },
     "execution_count": 41,
     "metadata": {},
     "output_type": "execute_result"
    }
   ],
   "source": [
    "df[\"jackfruits\"]"
   ]
  },
  {
   "cell_type": "code",
   "execution_count": 42,
   "id": "92148f03-5bd2-49a4-96a2-64b48d2f095a",
   "metadata": {},
   "outputs": [
    {
     "data": {
      "text/plain": [
       "a           kiwis\n",
       "b         oranges\n",
       "c    strawberries\n",
       "Name: johnfruits, dtype: object"
      ]
     },
     "execution_count": 42,
     "metadata": {},
     "output_type": "execute_result"
    }
   ],
   "source": [
    "df[\"johnfruits\"]"
   ]
  },
  {
   "cell_type": "code",
   "execution_count": 43,
   "id": "933adc01-7d3b-40ac-ba9e-122932e1da6a",
   "metadata": {},
   "outputs": [
    {
     "data": {
      "text/plain": [
       "jackfruits    apple\n",
       "johnfruits    kiwis\n",
       "Name: a, dtype: object"
      ]
     },
     "execution_count": 43,
     "metadata": {},
     "output_type": "execute_result"
    }
   ],
   "source": [
    "df.iloc[0]"
   ]
  },
  {
   "cell_type": "code",
   "execution_count": 44,
   "id": "a8e17d3b-8440-49a0-86df-693581b75af8",
   "metadata": {},
   "outputs": [
    {
     "data": {
      "text/plain": [
       "jackfruits    apple\n",
       "johnfruits    kiwis\n",
       "Name: a, dtype: object"
      ]
     },
     "execution_count": 44,
     "metadata": {},
     "output_type": "execute_result"
    }
   ],
   "source": [
    "df.loc[\"a\"]"
   ]
  },
  {
   "cell_type": "markdown",
   "id": "8b046794-0228-4cbb-a343-ed947839b62b",
   "metadata": {},
   "source": [
    "In the code example above, a DataFrame is initialized using a dictionary with two key-value pairs. Every key in this dictionary represents a column in the resulting DataFrame and the value represents all the elements in this column.\n",
    "\n",
    "Both of the lists comprising of fruits as values are used to make a Python dictionary which is then passed to the pandas.DataFrame() method to make a DataFrame.\n",
    "\n"
   ]
  },
  {
   "cell_type": "markdown",
   "id": "dd66b353-d041-4fc4-a2a7-50d65e11723d",
   "metadata": {},
   "source": [
    "#Q5 ANSWER\n"
   ]
  },
  {
   "cell_type": "markdown",
   "id": "9c163c98-4717-402b-b6e8-198e4e1924b7",
   "metadata": {},
   "source": [
    "1. pd.read_csv, pd.read_excel\n",
    "\n",
    "The first function to mention is read_csv or read_excel"
   ]
  },
  {
   "cell_type": "code",
   "execution_count": 45,
   "id": "8a623d95-8bcc-4099-a3aa-91d2707b0d57",
   "metadata": {},
   "outputs": [],
   "source": [
    "df=pd.read_csv(\"https://raw.githubusercontent.com/datasciencedojo/datasets/master/titanic.csv\")"
   ]
  },
  {
   "cell_type": "code",
   "execution_count": 46,
   "id": "013e3796-9e59-408c-9c84-fe0508a8f386",
   "metadata": {},
   "outputs": [
    {
     "data": {
      "text/html": [
       "<div>\n",
       "<style scoped>\n",
       "    .dataframe tbody tr th:only-of-type {\n",
       "        vertical-align: middle;\n",
       "    }\n",
       "\n",
       "    .dataframe tbody tr th {\n",
       "        vertical-align: top;\n",
       "    }\n",
       "\n",
       "    .dataframe thead th {\n",
       "        text-align: right;\n",
       "    }\n",
       "</style>\n",
       "<table border=\"1\" class=\"dataframe\">\n",
       "  <thead>\n",
       "    <tr style=\"text-align: right;\">\n",
       "      <th></th>\n",
       "      <th>PassengerId</th>\n",
       "      <th>Survived</th>\n",
       "      <th>Pclass</th>\n",
       "      <th>Name</th>\n",
       "      <th>Sex</th>\n",
       "      <th>Age</th>\n",
       "      <th>SibSp</th>\n",
       "      <th>Parch</th>\n",
       "      <th>Ticket</th>\n",
       "      <th>Fare</th>\n",
       "      <th>Cabin</th>\n",
       "      <th>Embarked</th>\n",
       "    </tr>\n",
       "  </thead>\n",
       "  <tbody>\n",
       "    <tr>\n",
       "      <th>0</th>\n",
       "      <td>1</td>\n",
       "      <td>0</td>\n",
       "      <td>3</td>\n",
       "      <td>Braund, Mr. Owen Harris</td>\n",
       "      <td>male</td>\n",
       "      <td>22.0</td>\n",
       "      <td>1</td>\n",
       "      <td>0</td>\n",
       "      <td>A/5 21171</td>\n",
       "      <td>7.2500</td>\n",
       "      <td>NaN</td>\n",
       "      <td>S</td>\n",
       "    </tr>\n",
       "    <tr>\n",
       "      <th>1</th>\n",
       "      <td>2</td>\n",
       "      <td>1</td>\n",
       "      <td>1</td>\n",
       "      <td>Cumings, Mrs. John Bradley (Florence Briggs Th...</td>\n",
       "      <td>female</td>\n",
       "      <td>38.0</td>\n",
       "      <td>1</td>\n",
       "      <td>0</td>\n",
       "      <td>PC 17599</td>\n",
       "      <td>71.2833</td>\n",
       "      <td>C85</td>\n",
       "      <td>C</td>\n",
       "    </tr>\n",
       "    <tr>\n",
       "      <th>2</th>\n",
       "      <td>3</td>\n",
       "      <td>1</td>\n",
       "      <td>3</td>\n",
       "      <td>Heikkinen, Miss. Laina</td>\n",
       "      <td>female</td>\n",
       "      <td>26.0</td>\n",
       "      <td>0</td>\n",
       "      <td>0</td>\n",
       "      <td>STON/O2. 3101282</td>\n",
       "      <td>7.9250</td>\n",
       "      <td>NaN</td>\n",
       "      <td>S</td>\n",
       "    </tr>\n",
       "    <tr>\n",
       "      <th>3</th>\n",
       "      <td>4</td>\n",
       "      <td>1</td>\n",
       "      <td>1</td>\n",
       "      <td>Futrelle, Mrs. Jacques Heath (Lily May Peel)</td>\n",
       "      <td>female</td>\n",
       "      <td>35.0</td>\n",
       "      <td>1</td>\n",
       "      <td>0</td>\n",
       "      <td>113803</td>\n",
       "      <td>53.1000</td>\n",
       "      <td>C123</td>\n",
       "      <td>S</td>\n",
       "    </tr>\n",
       "    <tr>\n",
       "      <th>4</th>\n",
       "      <td>5</td>\n",
       "      <td>0</td>\n",
       "      <td>3</td>\n",
       "      <td>Allen, Mr. William Henry</td>\n",
       "      <td>male</td>\n",
       "      <td>35.0</td>\n",
       "      <td>0</td>\n",
       "      <td>0</td>\n",
       "      <td>373450</td>\n",
       "      <td>8.0500</td>\n",
       "      <td>NaN</td>\n",
       "      <td>S</td>\n",
       "    </tr>\n",
       "    <tr>\n",
       "      <th>...</th>\n",
       "      <td>...</td>\n",
       "      <td>...</td>\n",
       "      <td>...</td>\n",
       "      <td>...</td>\n",
       "      <td>...</td>\n",
       "      <td>...</td>\n",
       "      <td>...</td>\n",
       "      <td>...</td>\n",
       "      <td>...</td>\n",
       "      <td>...</td>\n",
       "      <td>...</td>\n",
       "      <td>...</td>\n",
       "    </tr>\n",
       "    <tr>\n",
       "      <th>886</th>\n",
       "      <td>887</td>\n",
       "      <td>0</td>\n",
       "      <td>2</td>\n",
       "      <td>Montvila, Rev. Juozas</td>\n",
       "      <td>male</td>\n",
       "      <td>27.0</td>\n",
       "      <td>0</td>\n",
       "      <td>0</td>\n",
       "      <td>211536</td>\n",
       "      <td>13.0000</td>\n",
       "      <td>NaN</td>\n",
       "      <td>S</td>\n",
       "    </tr>\n",
       "    <tr>\n",
       "      <th>887</th>\n",
       "      <td>888</td>\n",
       "      <td>1</td>\n",
       "      <td>1</td>\n",
       "      <td>Graham, Miss. Margaret Edith</td>\n",
       "      <td>female</td>\n",
       "      <td>19.0</td>\n",
       "      <td>0</td>\n",
       "      <td>0</td>\n",
       "      <td>112053</td>\n",
       "      <td>30.0000</td>\n",
       "      <td>B42</td>\n",
       "      <td>S</td>\n",
       "    </tr>\n",
       "    <tr>\n",
       "      <th>888</th>\n",
       "      <td>889</td>\n",
       "      <td>0</td>\n",
       "      <td>3</td>\n",
       "      <td>Johnston, Miss. Catherine Helen \"Carrie\"</td>\n",
       "      <td>female</td>\n",
       "      <td>NaN</td>\n",
       "      <td>1</td>\n",
       "      <td>2</td>\n",
       "      <td>W./C. 6607</td>\n",
       "      <td>23.4500</td>\n",
       "      <td>NaN</td>\n",
       "      <td>S</td>\n",
       "    </tr>\n",
       "    <tr>\n",
       "      <th>889</th>\n",
       "      <td>890</td>\n",
       "      <td>1</td>\n",
       "      <td>1</td>\n",
       "      <td>Behr, Mr. Karl Howell</td>\n",
       "      <td>male</td>\n",
       "      <td>26.0</td>\n",
       "      <td>0</td>\n",
       "      <td>0</td>\n",
       "      <td>111369</td>\n",
       "      <td>30.0000</td>\n",
       "      <td>C148</td>\n",
       "      <td>C</td>\n",
       "    </tr>\n",
       "    <tr>\n",
       "      <th>890</th>\n",
       "      <td>891</td>\n",
       "      <td>0</td>\n",
       "      <td>3</td>\n",
       "      <td>Dooley, Mr. Patrick</td>\n",
       "      <td>male</td>\n",
       "      <td>32.0</td>\n",
       "      <td>0</td>\n",
       "      <td>0</td>\n",
       "      <td>370376</td>\n",
       "      <td>7.7500</td>\n",
       "      <td>NaN</td>\n",
       "      <td>Q</td>\n",
       "    </tr>\n",
       "  </tbody>\n",
       "</table>\n",
       "<p>891 rows × 12 columns</p>\n",
       "</div>"
      ],
      "text/plain": [
       "     PassengerId  Survived  Pclass  \\\n",
       "0              1         0       3   \n",
       "1              2         1       1   \n",
       "2              3         1       3   \n",
       "3              4         1       1   \n",
       "4              5         0       3   \n",
       "..           ...       ...     ...   \n",
       "886          887         0       2   \n",
       "887          888         1       1   \n",
       "888          889         0       3   \n",
       "889          890         1       1   \n",
       "890          891         0       3   \n",
       "\n",
       "                                                  Name     Sex   Age  SibSp  \\\n",
       "0                              Braund, Mr. Owen Harris    male  22.0      1   \n",
       "1    Cumings, Mrs. John Bradley (Florence Briggs Th...  female  38.0      1   \n",
       "2                               Heikkinen, Miss. Laina  female  26.0      0   \n",
       "3         Futrelle, Mrs. Jacques Heath (Lily May Peel)  female  35.0      1   \n",
       "4                             Allen, Mr. William Henry    male  35.0      0   \n",
       "..                                                 ...     ...   ...    ...   \n",
       "886                              Montvila, Rev. Juozas    male  27.0      0   \n",
       "887                       Graham, Miss. Margaret Edith  female  19.0      0   \n",
       "888           Johnston, Miss. Catherine Helen \"Carrie\"  female   NaN      1   \n",
       "889                              Behr, Mr. Karl Howell    male  26.0      0   \n",
       "890                                Dooley, Mr. Patrick    male  32.0      0   \n",
       "\n",
       "     Parch            Ticket     Fare Cabin Embarked  \n",
       "0        0         A/5 21171   7.2500   NaN        S  \n",
       "1        0          PC 17599  71.2833   C85        C  \n",
       "2        0  STON/O2. 3101282   7.9250   NaN        S  \n",
       "3        0            113803  53.1000  C123        S  \n",
       "4        0            373450   8.0500   NaN        S  \n",
       "..     ...               ...      ...   ...      ...  \n",
       "886      0            211536  13.0000   NaN        S  \n",
       "887      0            112053  30.0000   B42        S  \n",
       "888      2        W./C. 6607  23.4500   NaN        S  \n",
       "889      0            111369  30.0000  C148        C  \n",
       "890      0            370376   7.7500   NaN        Q  \n",
       "\n",
       "[891 rows x 12 columns]"
      ]
     },
     "execution_count": 46,
     "metadata": {},
     "output_type": "execute_result"
    }
   ],
   "source": [
    "df"
   ]
  },
  {
   "cell_type": "markdown",
   "id": "41fa02e3-3bb5-45df-9821-1e4a2eedef5f",
   "metadata": {},
   "source": [
    "2. df.columns\n",
    "\n",
    "When you have a big dataset like that it can be hard to see all the columns. using .columns function, you can print out all the columns of the dataset:"
   ]
  },
  {
   "cell_type": "code",
   "execution_count": 47,
   "id": "fec9b80c-b087-43dd-a230-7d7979961f44",
   "metadata": {},
   "outputs": [
    {
     "data": {
      "text/plain": [
       "Index(['PassengerId', 'Survived', 'Pclass', 'Name', 'Sex', 'Age', 'SibSp',\n",
       "       'Parch', 'Ticket', 'Fare', 'Cabin', 'Embarked'],\n",
       "      dtype='object')"
      ]
     },
     "execution_count": 47,
     "metadata": {},
     "output_type": "execute_result"
    }
   ],
   "source": [
    "df.columns"
   ]
  },
  {
   "cell_type": "markdown",
   "id": "bf39cfc3-e86b-4d83-85be-dd8c719d183c",
   "metadata": {},
   "source": [
    "3. df.drop()\n",
    "\n",
    "You can drop some unnecessary columns using df.drop(). In this dataset we have so many columns we are not going to use all of themm for this tutorial. So, we can easily drop some:"
   ]
  },
  {
   "cell_type": "code",
   "execution_count": 48,
   "id": "538a4bdc-9e58-4b97-9748-ff9c1259ca3d",
   "metadata": {},
   "outputs": [
    {
     "data": {
      "text/html": [
       "<div>\n",
       "<style scoped>\n",
       "    .dataframe tbody tr th:only-of-type {\n",
       "        vertical-align: middle;\n",
       "    }\n",
       "\n",
       "    .dataframe tbody tr th {\n",
       "        vertical-align: top;\n",
       "    }\n",
       "\n",
       "    .dataframe thead th {\n",
       "        text-align: right;\n",
       "    }\n",
       "</style>\n",
       "<table border=\"1\" class=\"dataframe\">\n",
       "  <thead>\n",
       "    <tr style=\"text-align: right;\">\n",
       "      <th></th>\n",
       "      <th>PassengerId</th>\n",
       "      <th>Survived</th>\n",
       "      <th>Pclass</th>\n",
       "      <th>Name</th>\n",
       "      <th>Sex</th>\n",
       "      <th>Age</th>\n",
       "      <th>Parch</th>\n",
       "      <th>Ticket</th>\n",
       "      <th>Fare</th>\n",
       "      <th>Cabin</th>\n",
       "      <th>Embarked</th>\n",
       "    </tr>\n",
       "  </thead>\n",
       "  <tbody>\n",
       "    <tr>\n",
       "      <th>0</th>\n",
       "      <td>1</td>\n",
       "      <td>0</td>\n",
       "      <td>3</td>\n",
       "      <td>Braund, Mr. Owen Harris</td>\n",
       "      <td>male</td>\n",
       "      <td>22.0</td>\n",
       "      <td>0</td>\n",
       "      <td>A/5 21171</td>\n",
       "      <td>7.2500</td>\n",
       "      <td>NaN</td>\n",
       "      <td>S</td>\n",
       "    </tr>\n",
       "    <tr>\n",
       "      <th>1</th>\n",
       "      <td>2</td>\n",
       "      <td>1</td>\n",
       "      <td>1</td>\n",
       "      <td>Cumings, Mrs. John Bradley (Florence Briggs Th...</td>\n",
       "      <td>female</td>\n",
       "      <td>38.0</td>\n",
       "      <td>0</td>\n",
       "      <td>PC 17599</td>\n",
       "      <td>71.2833</td>\n",
       "      <td>C85</td>\n",
       "      <td>C</td>\n",
       "    </tr>\n",
       "    <tr>\n",
       "      <th>2</th>\n",
       "      <td>3</td>\n",
       "      <td>1</td>\n",
       "      <td>3</td>\n",
       "      <td>Heikkinen, Miss. Laina</td>\n",
       "      <td>female</td>\n",
       "      <td>26.0</td>\n",
       "      <td>0</td>\n",
       "      <td>STON/O2. 3101282</td>\n",
       "      <td>7.9250</td>\n",
       "      <td>NaN</td>\n",
       "      <td>S</td>\n",
       "    </tr>\n",
       "    <tr>\n",
       "      <th>3</th>\n",
       "      <td>4</td>\n",
       "      <td>1</td>\n",
       "      <td>1</td>\n",
       "      <td>Futrelle, Mrs. Jacques Heath (Lily May Peel)</td>\n",
       "      <td>female</td>\n",
       "      <td>35.0</td>\n",
       "      <td>0</td>\n",
       "      <td>113803</td>\n",
       "      <td>53.1000</td>\n",
       "      <td>C123</td>\n",
       "      <td>S</td>\n",
       "    </tr>\n",
       "    <tr>\n",
       "      <th>4</th>\n",
       "      <td>5</td>\n",
       "      <td>0</td>\n",
       "      <td>3</td>\n",
       "      <td>Allen, Mr. William Henry</td>\n",
       "      <td>male</td>\n",
       "      <td>35.0</td>\n",
       "      <td>0</td>\n",
       "      <td>373450</td>\n",
       "      <td>8.0500</td>\n",
       "      <td>NaN</td>\n",
       "      <td>S</td>\n",
       "    </tr>\n",
       "    <tr>\n",
       "      <th>...</th>\n",
       "      <td>...</td>\n",
       "      <td>...</td>\n",
       "      <td>...</td>\n",
       "      <td>...</td>\n",
       "      <td>...</td>\n",
       "      <td>...</td>\n",
       "      <td>...</td>\n",
       "      <td>...</td>\n",
       "      <td>...</td>\n",
       "      <td>...</td>\n",
       "      <td>...</td>\n",
       "    </tr>\n",
       "    <tr>\n",
       "      <th>886</th>\n",
       "      <td>887</td>\n",
       "      <td>0</td>\n",
       "      <td>2</td>\n",
       "      <td>Montvila, Rev. Juozas</td>\n",
       "      <td>male</td>\n",
       "      <td>27.0</td>\n",
       "      <td>0</td>\n",
       "      <td>211536</td>\n",
       "      <td>13.0000</td>\n",
       "      <td>NaN</td>\n",
       "      <td>S</td>\n",
       "    </tr>\n",
       "    <tr>\n",
       "      <th>887</th>\n",
       "      <td>888</td>\n",
       "      <td>1</td>\n",
       "      <td>1</td>\n",
       "      <td>Graham, Miss. Margaret Edith</td>\n",
       "      <td>female</td>\n",
       "      <td>19.0</td>\n",
       "      <td>0</td>\n",
       "      <td>112053</td>\n",
       "      <td>30.0000</td>\n",
       "      <td>B42</td>\n",
       "      <td>S</td>\n",
       "    </tr>\n",
       "    <tr>\n",
       "      <th>888</th>\n",
       "      <td>889</td>\n",
       "      <td>0</td>\n",
       "      <td>3</td>\n",
       "      <td>Johnston, Miss. Catherine Helen \"Carrie\"</td>\n",
       "      <td>female</td>\n",
       "      <td>NaN</td>\n",
       "      <td>2</td>\n",
       "      <td>W./C. 6607</td>\n",
       "      <td>23.4500</td>\n",
       "      <td>NaN</td>\n",
       "      <td>S</td>\n",
       "    </tr>\n",
       "    <tr>\n",
       "      <th>889</th>\n",
       "      <td>890</td>\n",
       "      <td>1</td>\n",
       "      <td>1</td>\n",
       "      <td>Behr, Mr. Karl Howell</td>\n",
       "      <td>male</td>\n",
       "      <td>26.0</td>\n",
       "      <td>0</td>\n",
       "      <td>111369</td>\n",
       "      <td>30.0000</td>\n",
       "      <td>C148</td>\n",
       "      <td>C</td>\n",
       "    </tr>\n",
       "    <tr>\n",
       "      <th>890</th>\n",
       "      <td>891</td>\n",
       "      <td>0</td>\n",
       "      <td>3</td>\n",
       "      <td>Dooley, Mr. Patrick</td>\n",
       "      <td>male</td>\n",
       "      <td>32.0</td>\n",
       "      <td>0</td>\n",
       "      <td>370376</td>\n",
       "      <td>7.7500</td>\n",
       "      <td>NaN</td>\n",
       "      <td>Q</td>\n",
       "    </tr>\n",
       "  </tbody>\n",
       "</table>\n",
       "<p>891 rows × 11 columns</p>\n",
       "</div>"
      ],
      "text/plain": [
       "     PassengerId  Survived  Pclass  \\\n",
       "0              1         0       3   \n",
       "1              2         1       1   \n",
       "2              3         1       3   \n",
       "3              4         1       1   \n",
       "4              5         0       3   \n",
       "..           ...       ...     ...   \n",
       "886          887         0       2   \n",
       "887          888         1       1   \n",
       "888          889         0       3   \n",
       "889          890         1       1   \n",
       "890          891         0       3   \n",
       "\n",
       "                                                  Name     Sex   Age  Parch  \\\n",
       "0                              Braund, Mr. Owen Harris    male  22.0      0   \n",
       "1    Cumings, Mrs. John Bradley (Florence Briggs Th...  female  38.0      0   \n",
       "2                               Heikkinen, Miss. Laina  female  26.0      0   \n",
       "3         Futrelle, Mrs. Jacques Heath (Lily May Peel)  female  35.0      0   \n",
       "4                             Allen, Mr. William Henry    male  35.0      0   \n",
       "..                                                 ...     ...   ...    ...   \n",
       "886                              Montvila, Rev. Juozas    male  27.0      0   \n",
       "887                       Graham, Miss. Margaret Edith  female  19.0      0   \n",
       "888           Johnston, Miss. Catherine Helen \"Carrie\"  female   NaN      2   \n",
       "889                              Behr, Mr. Karl Howell    male  26.0      0   \n",
       "890                                Dooley, Mr. Patrick    male  32.0      0   \n",
       "\n",
       "               Ticket     Fare Cabin Embarked  \n",
       "0           A/5 21171   7.2500   NaN        S  \n",
       "1            PC 17599  71.2833   C85        C  \n",
       "2    STON/O2. 3101282   7.9250   NaN        S  \n",
       "3              113803  53.1000  C123        S  \n",
       "4              373450   8.0500   NaN        S  \n",
       "..                ...      ...   ...      ...  \n",
       "886            211536  13.0000   NaN        S  \n",
       "887            112053  30.0000   B42        S  \n",
       "888        W./C. 6607  23.4500   NaN        S  \n",
       "889            111369  30.0000  C148        C  \n",
       "890            370376   7.7500   NaN        Q  \n",
       "\n",
       "[891 rows x 11 columns]"
      ]
     },
     "execution_count": 48,
     "metadata": {},
     "output_type": "execute_result"
    }
   ],
   "source": [
    "df.drop(\"SibSp\",axis=1) #SibSp colum has been deleted"
   ]
  },
  {
   "cell_type": "markdown",
   "id": "2ce19a25-d081-4a43-a7cc-b55a57132db4",
   "metadata": {},
   "source": [
    "4. .len()\n",
    "Provides with the length of the DataFrame. "
   ]
  },
  {
   "cell_type": "code",
   "execution_count": 49,
   "id": "c1e5c0b6-42c0-446c-95c8-f0ee9eb4449f",
   "metadata": {},
   "outputs": [
    {
     "data": {
      "text/plain": [
       "891"
      ]
     },
     "execution_count": 49,
     "metadata": {},
     "output_type": "execute_result"
    }
   ],
   "source": [
    "len(df)"
   ]
  },
  {
   "cell_type": "markdown",
   "id": "f0df7119-bbb6-43a6-8140-f2c5a3f63841",
   "metadata": {},
   "source": [
    "5df.iloc()\n",
    "\n",
    "This function takes as a parameter the rows and column indices and gives you the subset of the"
   ]
  },
  {
   "cell_type": "code",
   "execution_count": 50,
   "id": "16975600-5f87-487d-8557-74e5c4aec2d5",
   "metadata": {},
   "outputs": [
    {
     "data": {
      "text/html": [
       "<div>\n",
       "<style scoped>\n",
       "    .dataframe tbody tr th:only-of-type {\n",
       "        vertical-align: middle;\n",
       "    }\n",
       "\n",
       "    .dataframe tbody tr th {\n",
       "        vertical-align: top;\n",
       "    }\n",
       "\n",
       "    .dataframe thead th {\n",
       "        text-align: right;\n",
       "    }\n",
       "</style>\n",
       "<table border=\"1\" class=\"dataframe\">\n",
       "  <thead>\n",
       "    <tr style=\"text-align: right;\">\n",
       "      <th></th>\n",
       "      <th>Survived</th>\n",
       "      <th>Pclass</th>\n",
       "      <th>Name</th>\n",
       "    </tr>\n",
       "  </thead>\n",
       "  <tbody>\n",
       "    <tr>\n",
       "      <th>5</th>\n",
       "      <td>0</td>\n",
       "      <td>3</td>\n",
       "      <td>Moran, Mr. James</td>\n",
       "    </tr>\n",
       "    <tr>\n",
       "      <th>6</th>\n",
       "      <td>0</td>\n",
       "      <td>1</td>\n",
       "      <td>McCarthy, Mr. Timothy J</td>\n",
       "    </tr>\n",
       "    <tr>\n",
       "      <th>7</th>\n",
       "      <td>0</td>\n",
       "      <td>3</td>\n",
       "      <td>Palsson, Master. Gosta Leonard</td>\n",
       "    </tr>\n",
       "    <tr>\n",
       "      <th>8</th>\n",
       "      <td>1</td>\n",
       "      <td>3</td>\n",
       "      <td>Johnson, Mrs. Oscar W (Elisabeth Vilhelmina Berg)</td>\n",
       "    </tr>\n",
       "    <tr>\n",
       "      <th>9</th>\n",
       "      <td>1</td>\n",
       "      <td>2</td>\n",
       "      <td>Nasser, Mrs. Nicholas (Adele Achem)</td>\n",
       "    </tr>\n",
       "  </tbody>\n",
       "</table>\n",
       "</div>"
      ],
      "text/plain": [
       "   Survived  Pclass                                               Name\n",
       "5         0       3                                   Moran, Mr. James\n",
       "6         0       1                            McCarthy, Mr. Timothy J\n",
       "7         0       3                     Palsson, Master. Gosta Leonard\n",
       "8         1       3  Johnson, Mrs. Oscar W (Elisabeth Vilhelmina Berg)\n",
       "9         1       2                Nasser, Mrs. Nicholas (Adele Achem)"
      ]
     },
     "execution_count": 50,
     "metadata": {},
     "output_type": "execute_result"
    }
   ],
   "source": [
    "df.iloc[5:10,1:4] # first rows indices then column indices\n"
   ]
  },
  {
   "cell_type": "markdown",
   "id": "f0a52da5-89e2-475d-9765-d922a049ed56",
   "metadata": {},
   "source": [
    " 6df[‘’].dtypes\n",
    " \n",
    "Another very basic and widely used functions. Because it is necessary to know the data types of the variables before we dive into the analysis, visualization, or predictive modeling. "
   ]
  },
  {
   "cell_type": "code",
   "execution_count": 51,
   "id": "da68dbdd-7708-4313-bc17-8541f339ba0f",
   "metadata": {},
   "outputs": [
    {
     "data": {
      "text/plain": [
       "PassengerId      int64\n",
       "Survived         int64\n",
       "Pclass           int64\n",
       "Name            object\n",
       "Sex             object\n",
       "Age            float64\n",
       "SibSp            int64\n",
       "Parch            int64\n",
       "Ticket          object\n",
       "Fare           float64\n",
       "Cabin           object\n",
       "Embarked        object\n",
       "dtype: object"
      ]
     },
     "execution_count": 51,
     "metadata": {},
     "output_type": "execute_result"
    }
   ],
   "source": [
    "df.dtypes"
   ]
  },
  {
   "cell_type": "markdown",
   "id": "1167112d-7c6e-40c8-8c4f-51a491f3d268",
   "metadata": {},
   "source": [
    "#Q6 ANSWER"
   ]
  },
  {
   "cell_type": "markdown",
   "id": "35f1559a-9462-4308-97aa-76828bbfed6a",
   "metadata": {},
   "source": [
    "   A Series is a one dimensional array like structure with homogeneous data. The values of the series are mutable means we can change any value in series, but the size of the series is immutable so we can not change the size of the series. A series can hold any type of data like integer, decimal, string, python objects, etc\n",
    "   \n",
    "DataFrame is a two-dimensional array with heterogeneous data. A DataFrame size is mutable and data is also mutable so we can change the data and size of DataFrame at any time.\n",
    "\n",
    "The panel is a three-dimensional data structure with heterogeneous data. It is very hard to represent the Panel in a graphical representation. But a Panel can be illustrated as a container of a DataFrame. In Panel Data and size are mutable\n"
   ]
  },
  {
   "cell_type": "markdown",
   "id": "a6eecc58-ebe2-4242-bc7b-f026cfbac964",
   "metadata": {},
   "source": [
    "#Q7 ANSWERS"
   ]
  },
  {
   "cell_type": "code",
   "execution_count": 71,
   "id": "a4a91f1a-19c1-4b24-857f-f5d857c0239a",
   "metadata": {},
   "outputs": [],
   "source": [
    "series1=pd.Series([1,2,3,4,5,6,7])\n",
    "series2=pd.Series([11,12,13,14,15,16,17])\n",
    "series3=pd.Series([21,22,23,24,25,26,27])"
   ]
  },
  {
   "cell_type": "markdown",
   "id": "a2707f7b-6ac1-4d7f-bb69-8c4e3235a561",
   "metadata": {},
   "source": [
    "here i have created 3 series "
   ]
  },
  {
   "cell_type": "code",
   "execution_count": 72,
   "id": "3ddd3aa9-cadb-474b-a554-737ea58c9041",
   "metadata": {},
   "outputs": [],
   "source": [
    "d={\"col1\":series1,\n",
    "  \"col2\":series2,\n",
    "  \"col3\":series3}"
   ]
  },
  {
   "cell_type": "markdown",
   "id": "8f0863d0-e99a-4129-81ee-b0ffca829b20",
   "metadata": {},
   "source": [
    "here i have made dictionary of series where key wil take the column name and value will take the values of the keys"
   ]
  },
  {
   "cell_type": "code",
   "execution_count": 73,
   "id": "3aac185f-e8ca-4c07-a6e3-6e8d384780d9",
   "metadata": {},
   "outputs": [],
   "source": [
    "df=pd.DataFrame(d)"
   ]
  },
  {
   "cell_type": "code",
   "execution_count": 74,
   "id": "0fbb790d-f080-4fa5-a81d-7600e764c0aa",
   "metadata": {},
   "outputs": [
    {
     "data": {
      "text/html": [
       "<div>\n",
       "<style scoped>\n",
       "    .dataframe tbody tr th:only-of-type {\n",
       "        vertical-align: middle;\n",
       "    }\n",
       "\n",
       "    .dataframe tbody tr th {\n",
       "        vertical-align: top;\n",
       "    }\n",
       "\n",
       "    .dataframe thead th {\n",
       "        text-align: right;\n",
       "    }\n",
       "</style>\n",
       "<table border=\"1\" class=\"dataframe\">\n",
       "  <thead>\n",
       "    <tr style=\"text-align: right;\">\n",
       "      <th></th>\n",
       "      <th>col1</th>\n",
       "      <th>col2</th>\n",
       "      <th>col3</th>\n",
       "    </tr>\n",
       "  </thead>\n",
       "  <tbody>\n",
       "    <tr>\n",
       "      <th>0</th>\n",
       "      <td>1</td>\n",
       "      <td>11</td>\n",
       "      <td>21</td>\n",
       "    </tr>\n",
       "    <tr>\n",
       "      <th>1</th>\n",
       "      <td>2</td>\n",
       "      <td>12</td>\n",
       "      <td>22</td>\n",
       "    </tr>\n",
       "    <tr>\n",
       "      <th>2</th>\n",
       "      <td>3</td>\n",
       "      <td>13</td>\n",
       "      <td>23</td>\n",
       "    </tr>\n",
       "    <tr>\n",
       "      <th>3</th>\n",
       "      <td>4</td>\n",
       "      <td>14</td>\n",
       "      <td>24</td>\n",
       "    </tr>\n",
       "    <tr>\n",
       "      <th>4</th>\n",
       "      <td>5</td>\n",
       "      <td>15</td>\n",
       "      <td>25</td>\n",
       "    </tr>\n",
       "    <tr>\n",
       "      <th>5</th>\n",
       "      <td>6</td>\n",
       "      <td>16</td>\n",
       "      <td>26</td>\n",
       "    </tr>\n",
       "    <tr>\n",
       "      <th>6</th>\n",
       "      <td>7</td>\n",
       "      <td>17</td>\n",
       "      <td>27</td>\n",
       "    </tr>\n",
       "  </tbody>\n",
       "</table>\n",
       "</div>"
      ],
      "text/plain": [
       "   col1  col2  col3\n",
       "0     1    11    21\n",
       "1     2    12    22\n",
       "2     3    13    23\n",
       "3     4    14    24\n",
       "4     5    15    25\n",
       "5     6    16    26\n",
       "6     7    17    27"
      ]
     },
     "execution_count": 74,
     "metadata": {},
     "output_type": "execute_result"
    }
   ],
   "source": [
    "df"
   ]
  },
  {
   "cell_type": "code",
   "execution_count": null,
   "id": "00b4f778-c327-4d59-a5a0-9da652992bf5",
   "metadata": {},
   "outputs": [],
   "source": []
  },
  {
   "cell_type": "code",
   "execution_count": null,
   "id": "57038cd6-c191-4c05-ab7e-dcdf912ff44f",
   "metadata": {},
   "outputs": [],
   "source": []
  }
 ],
 "metadata": {
  "kernelspec": {
   "display_name": "Python 3 (ipykernel)",
   "language": "python",
   "name": "python3"
  },
  "language_info": {
   "codemirror_mode": {
    "name": "ipython",
    "version": 3
   },
   "file_extension": ".py",
   "mimetype": "text/x-python",
   "name": "python",
   "nbconvert_exporter": "python",
   "pygments_lexer": "ipython3",
   "version": "3.10.8"
  }
 },
 "nbformat": 4,
 "nbformat_minor": 5
}
